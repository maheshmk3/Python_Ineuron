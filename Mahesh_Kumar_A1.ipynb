{
 "cells": [
  {
   "cell_type": "code",
   "execution_count": 5,
   "metadata": {},
   "outputs": [
    {
     "name": "stdout",
     "output_type": "stream",
     "text": [
      "My first Python program\n"
     ]
    }
   ],
   "source": [
    "# Assignment 1 : Task 1, problem 1\n",
    "print('My first Python program')"
   ]
  },
  {
   "cell_type": "code",
   "execution_count": 12,
   "metadata": {},
   "outputs": [
    {
     "name": "stdout",
     "output_type": "stream",
     "text": [
      "[2002, 2009, 2016, 2023, 2037, 2044, 2051, 2058, 2072, 2079, 2086, 2093, 2107, 2114, 2121, 2128, 2142, 2149, 2156, 2163, 2177, 2184, 2191, 2198, 2212, 2219, 2226, 2233, 2247, 2254, 2261, 2268, 2282, 2289, 2296, 2303, 2317, 2324, 2331, 2338, 2352, 2359, 2366, 2373, 2387, 2394, 2401, 2408, 2422, 2429, 2436, 2443, 2457, 2464, 2471, 2478, 2492, 2499, 2506, 2513, 2527, 2534, 2541, 2548, 2562, 2569, 2576, 2583, 2597, 2604, 2611, 2618, 2632, 2639, 2646, 2653, 2667, 2674, 2681, 2688, 2702, 2709, 2716, 2723, 2737, 2744, 2751, 2758, 2772, 2779, 2786, 2793, 2807, 2814, 2821, 2828, 2842, 2849, 2856, 2863, 2877, 2884, 2891, 2898, 2912, 2919, 2926, 2933, 2947, 2954, 2961, 2968, 2982, 2989, 2996, 3003, 3017, 3024, 3031, 3038, 3052, 3059, 3066, 3073, 3087, 3094, 3101, 3108, 3122, 3129, 3136, 3143, 3157, 3164, 3171, 3178, 3192, 3199]\n"
     ]
    }
   ],
   "source": [
    "#Assignment 1 : Task 1, problem 2\n",
    "m=[]\n",
    "for i in list(range(2000,3201)):\n",
    "    if i%7==0:\n",
    "        if i%5 !=0:\n",
    "            m.append(i)\n",
    "print(str(m))"
   ]
  },
  {
   "cell_type": "code",
   "execution_count": 14,
   "metadata": {},
   "outputs": [
    {
     "name": "stdout",
     "output_type": "stream",
     "text": [
      "Please enter first name:Mahesh\n",
      "Please enter last name:Kumar\n",
      "hsehaM   ramuK\n"
     ]
    }
   ],
   "source": [
    "#Assignment 1 : Task 1, problem 3\n",
    "\n",
    "fn=input('Please enter first name:')\n",
    "\n",
    "ln=input('Please enter last name:')\n",
    "\n",
    "print(fn[::-1],' ',ln[::-1])"
   ]
  },
  {
   "cell_type": "code",
   "execution_count": 15,
   "metadata": {},
   "outputs": [
    {
     "name": "stdout",
     "output_type": "stream",
     "text": [
      "Volume of sphere:  904.3199999999999\n"
     ]
    }
   ],
   "source": [
    "#Assignment 1: Task 1, problem 4\n",
    "d=12\n",
    "#Volumne of sphere = 4/3 * 3.14* r **3\n",
    "v=(4/3)*3.14*(d/2)**3\n",
    "print ('Volume of sphere: ',v)"
   ]
  },
  {
   "cell_type": "code",
   "execution_count": 18,
   "metadata": {},
   "outputs": [
    {
     "name": "stdout",
     "output_type": "stream",
     "text": [
      "Please enter comma seperated values :1,2,3,4,MK,3+4j\n",
      "['1', '2', '3', '4', 'MK', '3+4j']\n"
     ]
    }
   ],
   "source": [
    "#Assignment 1: Task 2, Problem 1\n",
    "\n",
    "s_l=input('Please enter comma seperated values :')\n",
    "k=s_l.split(',')\n",
    "\n",
    "print(k)"
   ]
  },
  {
   "cell_type": "code",
   "execution_count": 53,
   "metadata": {},
   "outputs": [
    {
     "name": "stdout",
     "output_type": "stream",
     "text": [
      "*\n",
      "* *\n",
      "* * *\n",
      "* * * *\n",
      "* * * * *\n",
      "* * * *\n",
      "* * *\n",
      "* *\n",
      "*\n"
     ]
    }
   ],
   "source": [
    "#Assignment 1, Task 2, Problem 2:\n",
    "s=\"*\"\n",
    "p=\" \"\n",
    "\n",
    "for i in list(range(1,6)):\n",
    "    if i<=5:\n",
    "        k=(s+p)*i\n",
    "        print(k.rstrip())\n",
    "\n",
    "o=  list(range(1,5))      \n",
    "\n",
    "for j in o[::-1] :\n",
    "    if j>=1:\n",
    "        m=(s+p)*j\n",
    "        print(m.rstrip())\n",
    "    \n",
    "        "
   ]
  },
  {
   "cell_type": "code",
   "execution_count": 54,
   "metadata": {},
   "outputs": [
    {
     "name": "stdout",
     "output_type": "stream",
     "text": [
      "Please enter a name: Mahesh\n",
      "hsehaM\n"
     ]
    }
   ],
   "source": [
    "name=input('Please enter a name: ')\n",
    "print(name[::-1])"
   ]
  },
  {
   "cell_type": "code",
   "execution_count": 154,
   "metadata": {},
   "outputs": [
    {
     "name": "stdout",
     "output_type": "stream",
     "text": [
      "WE, THE PEOPLE OF INDIA,\n",
      "\thaving solemnly resolved to constitute India into a SOVEREIGN, !\n",
      "\t \t SOCIALIST, SECULAR, DEMOCRATIC REPUBLIC\n",
      "\t \t   and to secure to all its citizens\n"
     ]
    }
   ],
   "source": [
    "st='WE, THE PEOPLE OF INDIA, having solemnly resolved to constitute India into a SOVEREIGN, SOCIALIST, SECULAR, DEMOCRATIC REPUBLIC and to secure to all its citizens'\n",
    "m=[]\n",
    "st1=''\n",
    "st2=''\n",
    "st3=''\n",
    "\n",
    "for i in st:\n",
    "    if i.islower()==True:\n",
    "        break\n",
    "    else:\n",
    "        st1=st1+i\n",
    "m.append(st1.rstrip())\n",
    "\n",
    "for i in st[len(st1):]:\n",
    "    if i ==',':\n",
    "        break\n",
    "    else:\n",
    "        st2=st2+i\n",
    "        \n",
    "m.append(st2+\",\"+\" \"+\"!\")\n",
    "\n",
    "for i in st[len(st1+st2)+2:]:\n",
    "    if i.islower()==True:\n",
    "        break\n",
    "    else:\n",
    "        st3=st3+i\n",
    "m.append(st3.rstrip())\n",
    "\n",
    "st4=st[len(st1+st2+st3)+2:]\n",
    "\n",
    "m.append(st4)\n",
    "\n",
    "print(m[0],m[1],sep='\\n\\t')\n",
    "print('\\t','\\t',m[2])\n",
    "print('\\t','\\t',\" \",m[3])\n",
    "\n"
   ]
  }
 ],
 "metadata": {
  "kernelspec": {
   "display_name": "Python 3",
   "language": "python",
   "name": "python3"
  },
  "language_info": {
   "codemirror_mode": {
    "name": "ipython",
    "version": 3
   },
   "file_extension": ".py",
   "mimetype": "text/x-python",
   "name": "python",
   "nbconvert_exporter": "python",
   "pygments_lexer": "ipython3",
   "version": "3.7.4"
  }
 },
 "nbformat": 4,
 "nbformat_minor": 2
}
